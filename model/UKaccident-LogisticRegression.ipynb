{
 "cells": [
  {
   "cell_type": "code",
   "execution_count": 1,
   "metadata": {},
   "outputs": [],
   "source": [
    "import os\n",
    "# set wd\n",
    "\n",
    "#Set your own data files path here\n",
    "#path = \"d:\\cyk\\gatech\\CSE6242\\ProjectCSE6242\\ProjectUKdata\"\n",
    "path = \".\"\n",
    "os.chdir(path)"
   ]
  },
  {
   "cell_type": "markdown",
   "metadata": {},
   "source": [
    "### Import Libraries"
   ]
  },
  {
   "cell_type": "code",
   "execution_count": 2,
   "metadata": {},
   "outputs": [],
   "source": [
    "import pandas as pd\n",
    "import matplotlib.pyplot as plt\n",
    "import seaborn as sns\n",
    "import random\n",
    "import datetime"
   ]
  },
  {
   "cell_type": "markdown",
   "metadata": {},
   "source": [
    "### Import all data"
   ]
  },
  {
   "cell_type": "code",
   "execution_count": 3,
   "metadata": {},
   "outputs": [],
   "source": [
    "#data source : https://www.kaggle.com/daveianhickey/2000-16-traffic-flow-england-scotland-wales/version/8\n",
    "#df2014_lon = pd.read_csv(\"accidents_london_district1-32_2014.csv\",low_memory=False)\n",
    "df500clust = pd.read_csv(\"accidents_with_clusters.csv\")"
   ]
  },
  {
   "cell_type": "code",
   "execution_count": 4,
   "metadata": {
    "scrolled": true
   },
   "outputs": [
    {
     "name": "stdout",
     "output_type": "stream",
     "text": [
      "<class 'pandas.core.frame.DataFrame'>\n",
      "RangeIndex: 9853 entries, 0 to 9852\n",
      "Data columns (total 12 columns):\n",
      "Accident_Index                9853 non-null object\n",
      "Longitude                     9853 non-null float64\n",
      "Latitude                      9853 non-null float64\n",
      "Cluster                       9853 non-null int64\n",
      "Day_of_Week                   9853 non-null int64\n",
      "Hour                          9853 non-null int64\n",
      "Day_of_year                   9853 non-null int64\n",
      "Local_Authority_(District)    9853 non-null int64\n",
      "1st_Road_Class                9853 non-null int64\n",
      "1st_Road_Number               9853 non-null int64\n",
      "Speed_limit                   9853 non-null int64\n",
      "Accident                      9853 non-null int64\n",
      "dtypes: float64(2), int64(9), object(1)\n",
      "memory usage: 923.8+ KB\n"
     ]
    }
   ],
   "source": [
    "# This is the 2014 London accident data with Cluster id mapped. \n",
    "df500clust.info()"
   ]
  },
  {
   "cell_type": "code",
   "execution_count": 5,
   "metadata": {},
   "outputs": [],
   "source": [
    "# Generate dataset"
   ]
  },
  {
   "cell_type": "code",
   "execution_count": 6,
   "metadata": {},
   "outputs": [
    {
     "name": "stdout",
     "output_type": "stream",
     "text": [
      "[22, 165, 14]\n",
      "Accident found!\n",
      "[61, 255, 5]\n",
      "Accident found!\n",
      "[60, 214, 19]\n",
      "Accident found!\n",
      "[76, 178, 18]\n",
      "Accident found!\n",
      "[116, 197, 11]\n",
      "Accident found!\n",
      "[123, 245, 2]\n",
      "Accident found!\n",
      "[127, 127, 18]\n",
      "Accident found!\n",
      "[127, 128, 22]\n",
      "Accident found!\n",
      "[161, 349, 7]\n",
      "Accident found!\n",
      "[189, 13, 17]\n",
      "Accident found!\n",
      "[194, 334, 21]\n",
      "Accident found!\n",
      "[177, 92, 8]\n",
      "Accident found!\n",
      "[183, 209, 7]\n",
      "Accident found!\n",
      "[217, 184, 7]\n",
      "Accident found!\n",
      "[238, 281, 20]\n",
      "Accident found!\n",
      "[238, 254, 18]\n",
      "Accident found!\n",
      "[242, 268, 15]\n",
      "Accident found!\n",
      "[236, 291, 5]\n",
      "Accident found!\n",
      "[247, 158, 10]\n",
      "Accident found!\n",
      "[246, 291, 19]\n",
      "Accident found!\n",
      "[271, 268, 9]\n",
      "Accident found!\n",
      "[272, 180, 9]\n",
      "Accident found!\n",
      "[332, 337, 19]\n",
      "Accident found!\n",
      "[326, 358, 7]\n",
      "Accident found!\n",
      "[305, 271, 8]\n",
      "Accident found!\n",
      "[103, 104, 6]\n",
      "Accident found!\n",
      "[183, 358, 0]\n",
      "Accident found!\n",
      "[335, 63, 8]\n",
      "Accident found!\n",
      "[385, 256, 20]\n",
      "Accident found!\n",
      "[428, 339, 19]\n",
      "Accident found!\n",
      "[425, 80, 13]\n",
      "Accident found!\n",
      "[4, 191, 9]\n",
      "Accident found!\n",
      "[4, 330, 18]\n",
      "Accident found!\n",
      "[39, 201, 22]\n",
      "Accident found!\n",
      "[31, 140, 10]\n",
      "Accident found!\n",
      "[66, 278, 17]\n",
      "Accident found!\n",
      "[289, 365, 22]\n",
      "Accident found!\n",
      "[17, 195, 23]\n",
      "Accident found!\n",
      "[177, 39, 2]\n",
      "Accident found!\n",
      "[186, 49, 12]\n",
      "Accident found!\n",
      "[179, 310, 12]\n",
      "Accident found!\n",
      "[187, 216, 7]\n",
      "Accident found!\n",
      "[177, 307, 20]\n",
      "Accident found!\n",
      "[240, 299, 5]\n",
      "Accident found!\n",
      "[240, 287, 6]\n",
      "Accident found!\n",
      "[251, 353, 19]\n",
      "Accident found!\n",
      "[272, 12, 23]\n",
      "Accident found!\n",
      "[294, 272, 14]\n",
      "Accident found!\n",
      "[287, 94, 0]\n",
      "Accident found!\n",
      "[305, 224, 23]\n",
      "Accident found!\n",
      "[317, 345, 7]\n",
      "Accident found!\n",
      "[6, 357, 16]\n",
      "Accident found!\n",
      "[52, 147, 16]\n",
      "Accident found!\n",
      "[28, 30, 11]\n",
      "Accident found!\n",
      "[65, 264, 20]\n",
      "Accident found!\n",
      "[73, 356, 1]\n",
      "Accident found!\n",
      "[85, 121, 18]\n",
      "Accident found!\n",
      "[84, 152, 14]\n",
      "Accident found!\n",
      "[94, 92, 9]\n",
      "Accident found!\n",
      "[103, 300, 2]\n",
      "Accident found!\n",
      "[114, 295, 17]\n",
      "Accident found!\n",
      "[71, 149, 15]\n",
      "Accident found!\n",
      "[127, 320, 0]\n",
      "Accident found!\n",
      "[132, 276, 9]\n",
      "Accident found!\n",
      "[138, 92, 14]\n",
      "Accident found!\n",
      "[155, 90, 21]\n",
      "Accident found!\n",
      "[197, 117, 17]\n",
      "Accident found!\n",
      "[207, 352, 18]\n",
      "Accident found!\n",
      "[206, 280, 18]\n",
      "Accident found!\n",
      "[361, 224, 7]\n",
      "Accident found!\n",
      "[374, 134, 19]\n",
      "Accident found!\n",
      "[391, 58, 19]\n",
      "Accident found!\n",
      "[298, 351, 17]\n",
      "Accident found!\n"
     ]
    }
   ],
   "source": [
    "#create all data to be fed to logistics regression\n",
    "df_nonacc_n_acc = pd.DataFrame(columns=[\n",
    "    'Longitude','Latitude','Cluster','Day_of_Week','Hour','Day_of_year','Local_Authority_(District)','1st_Road_Class','1st_Road_Number','Speed_limit','Accident'])\n",
    "\n",
    "#for each of the 3758 accidents, create 3 other data points\n",
    "for index, row in df500clust.iterrows():\n",
    "    #print(row['Accident_Index'], row['Cluster'])\n",
    "    \n",
    "    #add itself\n",
    "    longitude = row['Longitude']\n",
    "    latitude = row['Latitude']\n",
    "    nclust = row['Cluster']\n",
    "    dweek = row['Day_of_Week']\n",
    "    nhr = row['Hour']\n",
    "    nday = row['Day_of_year']\n",
    "    lauthor = row['Local_Authority_(District)']\n",
    "    roadclass = row['1st_Road_Class']\n",
    "    roadnum = row['1st_Road_Number']\n",
    "    splimit = row['Speed_limit']\n",
    "    accident = row['Accident']\n",
    "    dfnew = pd.DataFrame([[longitude,latitude,nclust,dweek,nhr,nday,lauthor,roadclass,roadnum,splimit,accident]], columns=['Longitude','Latitude','Cluster','Day_of_Week','Hour','Day_of_year','Local_Authority_(District)','1st_Road_Class','1st_Road_Number','Speed_limit','Accident'])\n",
    "    df_nonacc_n_acc = df_nonacc_n_acc.append(dfnew,ignore_index=True)\n",
    "    \n",
    "    i=0\n",
    "    while(i<3):\n",
    "        dt_first = datetime.datetime(2010,1,1)\n",
    "        nday = random.randint(1, 365)\n",
    "        dtdelta = datetime.timedelta(days=nday)\n",
    "        dt_targ = dt_first + dtdelta\n",
    "        \n",
    "        longitude = row['Longitude']\n",
    "        latitude = row['Latitude']\n",
    "        nclust = row['Cluster']\n",
    "        dweek = dt_targ.weekday()\n",
    "        nhr = random.randint(0, 23)\n",
    "        lauthor = row['Local_Authority_(District)']\n",
    "        roadclass = row['1st_Road_Class']\n",
    "        roadnum = row['1st_Road_Number']\n",
    "        splimit = row['Speed_limit']\n",
    "        accident = 0   \n",
    "\n",
    "        #whether such record exist first    \n",
    "        isacc = df500clust.loc[(df500clust['Cluster'] == nclust) & (df500clust['Day_of_year'] == nday) & (df500clust['Hour'] == nhr)]\n",
    "        if isacc.empty:\n",
    "            i += 1\n",
    "            dfnew = pd.DataFrame([[longitude,latitude,nclust,dweek,nhr,nday,lauthor,roadclass,roadnum,splimit,accident]], columns=['Longitude','Latitude','Cluster','Day_of_Week','Hour','Day_of_year','Local_Authority_(District)','1st_Road_Class','1st_Road_Number','Speed_limit','Accident'])\n",
    "            df_nonacc_n_acc = df_nonacc_n_acc.append(dfnew,ignore_index=True)\n",
    "        else:\n",
    "            print([nclust,nday,nhr])\n",
    "            print(\"Accident found!\")\n",
    "        \n",
    "df_nonacc_n_acc.to_csv(\"alldatapoints.csv\")"
   ]
  },
  {
   "cell_type": "code",
   "execution_count": 7,
   "metadata": {},
   "outputs": [],
   "source": [
    "#logistic regression"
   ]
  },
  {
   "cell_type": "code",
   "execution_count": 8,
   "metadata": {},
   "outputs": [],
   "source": [
    "pima = pd.read_csv(\"alldatapoints_w_weather.csv\")"
   ]
  },
  {
   "cell_type": "code",
   "execution_count": 9,
   "metadata": {},
   "outputs": [
    {
     "data": {
      "text/html": [
       "<div>\n",
       "<style scoped>\n",
       "    .dataframe tbody tr th:only-of-type {\n",
       "        vertical-align: middle;\n",
       "    }\n",
       "\n",
       "    .dataframe tbody tr th {\n",
       "        vertical-align: top;\n",
       "    }\n",
       "\n",
       "    .dataframe thead th {\n",
       "        text-align: right;\n",
       "    }\n",
       "</style>\n",
       "<table border=\"1\" class=\"dataframe\">\n",
       "  <thead>\n",
       "    <tr style=\"text-align: right;\">\n",
       "      <th></th>\n",
       "      <th>Unnamed: 0</th>\n",
       "      <th>Longitude</th>\n",
       "      <th>Latitude</th>\n",
       "      <th>Day_of_Week</th>\n",
       "      <th>Local_Authority_(District)</th>\n",
       "      <th>1st_Road_Class</th>\n",
       "      <th>1st_Road_Number</th>\n",
       "      <th>Speed_limit</th>\n",
       "      <th>Year</th>\n",
       "      <th>Date</th>\n",
       "      <th>...</th>\n",
       "      <th>precipProbability</th>\n",
       "      <th>precipType</th>\n",
       "      <th>pressure</th>\n",
       "      <th>summary</th>\n",
       "      <th>temperature</th>\n",
       "      <th>uvIndex</th>\n",
       "      <th>visibility</th>\n",
       "      <th>windBearing</th>\n",
       "      <th>windGust</th>\n",
       "      <th>windSpeed</th>\n",
       "    </tr>\n",
       "  </thead>\n",
       "  <tbody>\n",
       "    <tr>\n",
       "      <th>0</th>\n",
       "      <td>0</td>\n",
       "      <td>-0.185496</td>\n",
       "      <td>51.483253</td>\n",
       "      <td>5</td>\n",
       "      <td>12</td>\n",
       "      <td>3</td>\n",
       "      <td>308</td>\n",
       "      <td>30</td>\n",
       "      <td>2012</td>\n",
       "      <td>19/1/2012</td>\n",
       "      <td>...</td>\n",
       "      <td>0.0</td>\n",
       "      <td>none</td>\n",
       "      <td>1022.61</td>\n",
       "      <td>Mostly Cloudy</td>\n",
       "      <td>52.72</td>\n",
       "      <td>0</td>\n",
       "      <td>5.70</td>\n",
       "      <td>247</td>\n",
       "      <td>7.84</td>\n",
       "      <td>4.45</td>\n",
       "    </tr>\n",
       "    <tr>\n",
       "      <th>1</th>\n",
       "      <td>1</td>\n",
       "      <td>-0.185496</td>\n",
       "      <td>51.483253</td>\n",
       "      <td>0</td>\n",
       "      <td>12</td>\n",
       "      <td>3</td>\n",
       "      <td>308</td>\n",
       "      <td>30</td>\n",
       "      <td>2012</td>\n",
       "      <td>16/7/2012</td>\n",
       "      <td>...</td>\n",
       "      <td>0.0</td>\n",
       "      <td>none</td>\n",
       "      <td>1018.66</td>\n",
       "      <td>Partly Cloudy</td>\n",
       "      <td>62.57</td>\n",
       "      <td>0</td>\n",
       "      <td>6.22</td>\n",
       "      <td>266</td>\n",
       "      <td>8.13</td>\n",
       "      <td>3.61</td>\n",
       "    </tr>\n",
       "    <tr>\n",
       "      <th>2</th>\n",
       "      <td>2</td>\n",
       "      <td>-0.185496</td>\n",
       "      <td>51.483253</td>\n",
       "      <td>5</td>\n",
       "      <td>12</td>\n",
       "      <td>3</td>\n",
       "      <td>308</td>\n",
       "      <td>30</td>\n",
       "      <td>2012</td>\n",
       "      <td>5/5/2012</td>\n",
       "      <td>...</td>\n",
       "      <td>0.0</td>\n",
       "      <td>none</td>\n",
       "      <td>1010.30</td>\n",
       "      <td>Mostly Cloudy</td>\n",
       "      <td>48.33</td>\n",
       "      <td>4</td>\n",
       "      <td>6.22</td>\n",
       "      <td>46</td>\n",
       "      <td>8.30</td>\n",
       "      <td>3.79</td>\n",
       "    </tr>\n",
       "    <tr>\n",
       "      <th>3</th>\n",
       "      <td>3</td>\n",
       "      <td>-0.185496</td>\n",
       "      <td>51.483253</td>\n",
       "      <td>2</td>\n",
       "      <td>12</td>\n",
       "      <td>3</td>\n",
       "      <td>308</td>\n",
       "      <td>30</td>\n",
       "      <td>2012</td>\n",
       "      <td>2/5/2012</td>\n",
       "      <td>...</td>\n",
       "      <td>0.0</td>\n",
       "      <td>none</td>\n",
       "      <td>1020.73</td>\n",
       "      <td>Mostly Cloudy</td>\n",
       "      <td>50.81</td>\n",
       "      <td>4</td>\n",
       "      <td>4.98</td>\n",
       "      <td>338</td>\n",
       "      <td>8.06</td>\n",
       "      <td>4.46</td>\n",
       "    </tr>\n",
       "    <tr>\n",
       "      <th>4</th>\n",
       "      <td>4</td>\n",
       "      <td>-0.160418</td>\n",
       "      <td>51.501567</td>\n",
       "      <td>5</td>\n",
       "      <td>1</td>\n",
       "      <td>3</td>\n",
       "      <td>3216</td>\n",
       "      <td>30</td>\n",
       "      <td>2012</td>\n",
       "      <td>12/1/2012</td>\n",
       "      <td>...</td>\n",
       "      <td>0.0</td>\n",
       "      <td>none</td>\n",
       "      <td>1027.15</td>\n",
       "      <td>Mostly Cloudy</td>\n",
       "      <td>46.56</td>\n",
       "      <td>0</td>\n",
       "      <td>6.22</td>\n",
       "      <td>254</td>\n",
       "      <td>10.99</td>\n",
       "      <td>5.74</td>\n",
       "    </tr>\n",
       "  </tbody>\n",
       "</table>\n",
       "<p>5 rows × 34 columns</p>\n",
       "</div>"
      ],
      "text/plain": [
       "   Unnamed: 0  Longitude   Latitude  Day_of_Week  Local_Authority_(District)  \\\n",
       "0           0  -0.185496  51.483253            5                          12   \n",
       "1           1  -0.185496  51.483253            0                          12   \n",
       "2           2  -0.185496  51.483253            5                          12   \n",
       "3           3  -0.185496  51.483253            2                          12   \n",
       "4           4  -0.160418  51.501567            5                           1   \n",
       "\n",
       "   1st_Road_Class  1st_Road_Number  Speed_limit  Year       Date    ...      \\\n",
       "0               3              308           30  2012  19/1/2012    ...       \n",
       "1               3              308           30  2012  16/7/2012    ...       \n",
       "2               3              308           30  2012   5/5/2012    ...       \n",
       "3               3              308           30  2012   2/5/2012    ...       \n",
       "4               3             3216           30  2012  12/1/2012    ...       \n",
       "\n",
       "  precipProbability  precipType  pressure        summary temperature  uvIndex  \\\n",
       "0               0.0        none   1022.61  Mostly Cloudy       52.72        0   \n",
       "1               0.0        none   1018.66  Partly Cloudy       62.57        0   \n",
       "2               0.0        none   1010.30  Mostly Cloudy       48.33        4   \n",
       "3               0.0        none   1020.73  Mostly Cloudy       50.81        4   \n",
       "4               0.0        none   1027.15  Mostly Cloudy       46.56        0   \n",
       "\n",
       "   visibility  windBearing  windGust  windSpeed  \n",
       "0        5.70          247      7.84       4.45  \n",
       "1        6.22          266      8.13       3.61  \n",
       "2        6.22           46      8.30       3.79  \n",
       "3        4.98          338      8.06       4.46  \n",
       "4        6.22          254     10.99       5.74  \n",
       "\n",
       "[5 rows x 34 columns]"
      ]
     },
     "execution_count": 9,
     "metadata": {},
     "output_type": "execute_result"
    }
   ],
   "source": [
    "pima.head()"
   ]
  },
  {
   "cell_type": "code",
   "execution_count": 81,
   "metadata": {},
   "outputs": [],
   "source": [
    "#split dataset in features and target variable\n",
    "feature_cols = [\n",
    "    'Longitude',\n",
    "    'Latitude',\n",
    "    'Cluster',\n",
    "    'Day_of_Week',\n",
    "    'Hour',\n",
    "    'Day_of_year',\n",
    "    'Local_Authority_(District)',\n",
    "    '1st_Road_Class',\n",
    "    '1st_Road_Number',\n",
    "    'Speed_limit',\n",
    "    'Year',\n",
    "    'apparentTemperature',\n",
    "    'cloudCover',\n",
    "    'dewPoint',\n",
    "    'humidity',\n",
    "    'precipAccumulation',\n",
    "    'precipIntensity',\n",
    "    'precipProbability',\n",
    "    'pressure',\n",
    "    'temperature','uvIndex',\n",
    "    'visibility',\n",
    "    'windBearing',\n",
    "    'windGust',\n",
    "    'windSpeed'\n",
    "]\n",
    "\n",
    "X = pima[feature_cols] # Features\n",
    "y = pima.Accident # Target variable"
   ]
  },
  {
   "cell_type": "code",
   "execution_count": 82,
   "metadata": {},
   "outputs": [],
   "source": [
    "# split X and y into training and testing sets\n",
    "from sklearn.model_selection import train_test_split\n",
    "X_train,X_test,y_train,y_test=train_test_split(X,y,test_size=0.25,random_state=0)"
   ]
  },
  {
   "cell_type": "code",
   "execution_count": 83,
   "metadata": {},
   "outputs": [
    {
     "name": "stderr",
     "output_type": "stream",
     "text": [
      "C:\\Users\\roger.teo\\AppData\\Local\\Continuum\\anaconda3\\lib\\site-packages\\sklearn\\linear_model\\logistic.py:433: FutureWarning: Default solver will be changed to 'lbfgs' in 0.22. Specify a solver to silence this warning.\n",
      "  FutureWarning)\n"
     ]
    }
   ],
   "source": [
    "# import the class\n",
    "from sklearn.linear_model import LogisticRegression\n",
    "\n",
    "# instantiate the model (using the default parameters)\n",
    "logreg = LogisticRegression()\n",
    "\n",
    "# fit the model with data\n",
    "logreg.fit(X_train,y_train)\n",
    "\n",
    "#\n",
    "y_pred=logreg.predict(X_test)"
   ]
  },
  {
   "cell_type": "code",
   "execution_count": 84,
   "metadata": {},
   "outputs": [
    {
     "name": "stdout",
     "output_type": "stream",
     "text": [
      "Optimization terminated successfully.\n",
      "         Current function value: 0.521018\n",
      "         Iterations 6\n",
      "                           Logit Regression Results                           \n",
      "==============================================================================\n",
      "Dep. Variable:               Accident   No. Observations:                29199\n",
      "Model:                          Logit   Df Residuals:                    29174\n",
      "Method:                           MLE   Df Model:                           24\n",
      "Date:                Fri, 22 Mar 2019   Pseudo R-squ.:                 0.07306\n",
      "Time:                        23:54:07   Log-Likelihood:                -15213.\n",
      "converged:                       True   LL-Null:                       -16412.\n",
      "                                        LLR p-value:                     0.000\n",
      "==============================================================================================\n",
      "                                 coef    std err          z      P>|z|      [0.025      0.975]\n",
      "----------------------------------------------------------------------------------------------\n",
      "Longitude                     -0.0829      0.148     -0.560      0.576      -0.373       0.207\n",
      "Latitude                       0.0071      0.284      0.025      0.980      -0.550       0.564\n",
      "Cluster                       -0.0001      0.000     -0.783      0.433      -0.000       0.000\n",
      "Day_of_Week                    0.2837      0.007     39.092      0.000       0.270       0.298\n",
      "Hour                           0.0480      0.003     17.266      0.000       0.043       0.054\n",
      "Day_of_year                 -7.31e-05      0.000     -0.496      0.620      -0.000       0.000\n",
      "Local_Authority_(District)    -0.0005      0.002     -0.236      0.813      -0.005       0.004\n",
      "1st_Road_Class                -0.0172      0.028     -0.617      0.537      -0.072       0.037\n",
      "1st_Road_Number            -1.396e-05   1.24e-05     -1.123      0.262   -3.83e-05    1.04e-05\n",
      "Speed_limit                   -0.0020      0.004     -0.498      0.618      -0.010       0.006\n",
      "Year                          -0.0040      0.007     -0.545      0.586      -0.018       0.010\n",
      "apparentTemperature            0.0043      0.015      0.289      0.773      -0.025       0.033\n",
      "cloudCover                    -0.3113      0.055     -5.617      0.000      -0.420      -0.203\n",
      "dewPoint                       0.0236      0.022      1.065      0.287      -0.020       0.067\n",
      "humidity                       1.3534      0.886      1.528      0.127      -0.383       3.090\n",
      "precipAccumulation            -6.3807      7.698     -0.829      0.407     -21.469       8.708\n",
      "precipIntensity               -0.7714      3.040     -0.254      0.800      -6.730       5.187\n",
      "precipProbability             -0.2487      0.126     -1.969      0.049      -0.496      -0.001\n",
      "pressure                       0.0039      0.002      2.573      0.010       0.001       0.007\n",
      "temperature                   -0.0217      0.027     -0.804      0.422      -0.075       0.031\n",
      "uvIndex                        0.0427      0.013      3.167      0.002       0.016       0.069\n",
      "visibility                    -0.0101      0.014     -0.736      0.462      -0.037       0.017\n",
      "windBearing                 2.622e-05      0.000      0.167      0.868      -0.000       0.000\n",
      "windGust                       0.0094      0.012      0.815      0.415      -0.013       0.032\n",
      "windSpeed                     -0.0158      0.023     -0.687      0.492      -0.061       0.029\n",
      "==============================================================================================\n"
     ]
    }
   ],
   "source": [
    "import statsmodels.api as sm\n",
    "logit_model=sm.Logit(y_train,X_train)\n",
    "result=logit_model.fit()\n",
    "print(result.summary())"
   ]
  },
  {
   "cell_type": "code",
   "execution_count": 85,
   "metadata": {},
   "outputs": [
    {
     "data": {
      "text/plain": [
       "array([[7200,   80],\n",
       "       [2245,  208]], dtype=int64)"
      ]
     },
     "execution_count": 85,
     "metadata": {},
     "output_type": "execute_result"
    }
   ],
   "source": [
    "# import the metrics class\n",
    "from sklearn import metrics\n",
    "cnf_matrix = metrics.confusion_matrix(y_test, y_pred)\n",
    "cnf_matrix"
   ]
  },
  {
   "cell_type": "code",
   "execution_count": 86,
   "metadata": {},
   "outputs": [],
   "source": [
    "# import required modules\n",
    "import numpy as np\n",
    "import matplotlib.pyplot as plt\n",
    "import seaborn as sns\n",
    "%matplotlib inline"
   ]
  },
  {
   "cell_type": "code",
   "execution_count": 87,
   "metadata": {},
   "outputs": [
    {
     "data": {
      "text/plain": [
       "Text(0.5, 257.44, 'Predicted label')"
      ]
     },
     "execution_count": 87,
     "metadata": {},
     "output_type": "execute_result"
    },
    {
     "data": {
      "image/png": "[encoded data removed]",
      "text/plain": [
       "<Figure size 432x288 with 2 Axes>"
      ]
     },
     "metadata": {
      "needs_background": "light"
     },
     "output_type": "display_data"
    }
   ],
   "source": [
    "class_names=[0,1] # name  of classes\n",
    "fig, ax = plt.subplots()\n",
    "tick_marks = np.arange(len(class_names))\n",
    "plt.xticks(tick_marks, class_names)\n",
    "plt.yticks(tick_marks, class_names)\n",
    "# create heatmap\n",
    "sns.heatmap(pd.DataFrame(cnf_matrix), annot=True, cmap=\"YlGnBu\" ,fmt='g')\n",
    "ax.xaxis.set_label_position(\"top\")\n",
    "plt.tight_layout()\n",
    "plt.title('Confusion matrix', y=1.1)\n",
    "plt.ylabel('Actual label')\n",
    "plt.xlabel('Predicted label')"
   ]
  },
  {
   "cell_type": "code",
   "execution_count": 88,
   "metadata": {
    "scrolled": true
   },
   "outputs": [
    {
     "name": "stdout",
     "output_type": "stream",
     "text": [
      "Accuracy: 0.7611219562313778\n",
      "Precision: 0.7222222222222222\n",
      "Recall: 0.08479412963717896\n"
     ]
    }
   ],
   "source": [
    "print(\"Accuracy:\",metrics.accuracy_score(y_test, y_pred))\n",
    "print(\"Precision:\",metrics.precision_score(y_test, y_pred))\n",
    "print(\"Recall:\",metrics.recall_score(y_test, y_pred))"
   ]
  },
  {
   "cell_type": "code",
   "execution_count": 89,
   "metadata": {},
   "outputs": [
    {
     "data": {
      "image/png": "[encoded data removed]",
      "text/plain": [
       "<Figure size 432x288 with 1 Axes>"
      ]
     },
     "metadata": {
      "needs_background": "light"
     },
     "output_type": "display_data"
    }
   ],
   "source": [
    "y_pred_proba = logreg.predict_proba(X_test)[::,1]\n",
    "fpr, tpr, _ = metrics.roc_curve(y_test,  y_pred_proba)\n",
    "auc = metrics.roc_auc_score(y_test, y_pred_proba)\n",
    "plt.plot(fpr,tpr,label=\"data 1, auc=\"+str(auc))\n",
    "plt.legend(loc=4)\n",
    "plt.show()"
   ]
  },
  {
   "cell_type": "code",
   "execution_count": null,
   "metadata": {},
   "outputs": [],
   "source": []
  }
 ],
 "metadata": {
  "kernelspec": {
   "display_name": "Python 3",
   "language": "python",
   "name": "python3"
  },
  "language_info": {
   "codemirror_mode": {
    "name": "ipython",
    "version": 3
   },
   "file_extension": ".py",
   "mimetype": "text/x-python",
   "name": "python",
   "nbconvert_exporter": "python",
   "pygments_lexer": "ipython3",
   "version": "3.7.1"
  }
 },
 "nbformat": 4,
 "nbformat_minor": 2
}
