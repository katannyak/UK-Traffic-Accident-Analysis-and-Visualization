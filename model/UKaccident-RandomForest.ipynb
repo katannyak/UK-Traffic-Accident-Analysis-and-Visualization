{
 "cells": [
  {
   "cell_type": "code",
   "execution_count": 1,
   "metadata": {},
   "outputs": [],
   "source": [
    "import os\n",
    "# set wd\n",
    "\n",
    "#Set your own data files path here\n",
    "#path = \"d:\\cyk\\gatech\\CSE6242\\ProjectCSE6242\\ProjectUKdata\"\n",
    "path = \".\"\n",
    "os.chdir(path)"
   ]
  },
  {
   "cell_type": "markdown",
   "metadata": {},
   "source": [
    "### Import Libraries"
   ]
  },
  {
   "cell_type": "code",
   "execution_count": 2,
   "metadata": {},
   "outputs": [],
   "source": [
    "import pandas as pd\n",
    "import matplotlib.pyplot as plt\n",
    "import seaborn as sns\n",
    "import random\n",
    "import datetime"
   ]
  },
  {
   "cell_type": "markdown",
   "metadata": {},
   "source": [
    "### Import all data"
   ]
  },
  {
   "cell_type": "code",
   "execution_count": 3,
   "metadata": {},
   "outputs": [],
   "source": [
    "#Random Forest"
   ]
  },
  {
   "cell_type": "code",
   "execution_count": 4,
   "metadata": {},
   "outputs": [],
   "source": [
    "pima = pd.read_csv(\"alldatapoints_w_weather.csv\")"
   ]
  },
  {
   "cell_type": "code",
   "execution_count": 5,
   "metadata": {},
   "outputs": [
    {
     "data": {
      "text/html": [
       "<div>\n",
       "<style scoped>\n",
       "    .dataframe tbody tr th:only-of-type {\n",
       "        vertical-align: middle;\n",
       "    }\n",
       "\n",
       "    .dataframe tbody tr th {\n",
       "        vertical-align: top;\n",
       "    }\n",
       "\n",
       "    .dataframe thead th {\n",
       "        text-align: right;\n",
       "    }\n",
       "</style>\n",
       "<table border=\"1\" class=\"dataframe\">\n",
       "  <thead>\n",
       "    <tr style=\"text-align: right;\">\n",
       "      <th></th>\n",
       "      <th>Unnamed: 0</th>\n",
       "      <th>Longitude</th>\n",
       "      <th>Latitude</th>\n",
       "      <th>Day_of_Week</th>\n",
       "      <th>Local_Authority_(District)</th>\n",
       "      <th>1st_Road_Class</th>\n",
       "      <th>1st_Road_Number</th>\n",
       "      <th>Speed_limit</th>\n",
       "      <th>Year</th>\n",
       "      <th>Date</th>\n",
       "      <th>...</th>\n",
       "      <th>precipProbability</th>\n",
       "      <th>precipType</th>\n",
       "      <th>pressure</th>\n",
       "      <th>summary</th>\n",
       "      <th>temperature</th>\n",
       "      <th>uvIndex</th>\n",
       "      <th>visibility</th>\n",
       "      <th>windBearing</th>\n",
       "      <th>windGust</th>\n",
       "      <th>windSpeed</th>\n",
       "    </tr>\n",
       "  </thead>\n",
       "  <tbody>\n",
       "    <tr>\n",
       "      <th>0</th>\n",
       "      <td>0</td>\n",
       "      <td>-0.185496</td>\n",
       "      <td>51.483253</td>\n",
       "      <td>5</td>\n",
       "      <td>12</td>\n",
       "      <td>3</td>\n",
       "      <td>308</td>\n",
       "      <td>30</td>\n",
       "      <td>2012</td>\n",
       "      <td>19/1/2012</td>\n",
       "      <td>...</td>\n",
       "      <td>0.0</td>\n",
       "      <td>none</td>\n",
       "      <td>1022.61</td>\n",
       "      <td>Mostly Cloudy</td>\n",
       "      <td>52.72</td>\n",
       "      <td>0</td>\n",
       "      <td>5.70</td>\n",
       "      <td>247</td>\n",
       "      <td>7.84</td>\n",
       "      <td>4.45</td>\n",
       "    </tr>\n",
       "    <tr>\n",
       "      <th>1</th>\n",
       "      <td>1</td>\n",
       "      <td>-0.185496</td>\n",
       "      <td>51.483253</td>\n",
       "      <td>0</td>\n",
       "      <td>12</td>\n",
       "      <td>3</td>\n",
       "      <td>308</td>\n",
       "      <td>30</td>\n",
       "      <td>2012</td>\n",
       "      <td>16/7/2012</td>\n",
       "      <td>...</td>\n",
       "      <td>0.0</td>\n",
       "      <td>none</td>\n",
       "      <td>1018.66</td>\n",
       "      <td>Partly Cloudy</td>\n",
       "      <td>62.57</td>\n",
       "      <td>0</td>\n",
       "      <td>6.22</td>\n",
       "      <td>266</td>\n",
       "      <td>8.13</td>\n",
       "      <td>3.61</td>\n",
       "    </tr>\n",
       "    <tr>\n",
       "      <th>2</th>\n",
       "      <td>2</td>\n",
       "      <td>-0.185496</td>\n",
       "      <td>51.483253</td>\n",
       "      <td>5</td>\n",
       "      <td>12</td>\n",
       "      <td>3</td>\n",
       "      <td>308</td>\n",
       "      <td>30</td>\n",
       "      <td>2012</td>\n",
       "      <td>5/5/2012</td>\n",
       "      <td>...</td>\n",
       "      <td>0.0</td>\n",
       "      <td>none</td>\n",
       "      <td>1010.30</td>\n",
       "      <td>Mostly Cloudy</td>\n",
       "      <td>48.33</td>\n",
       "      <td>4</td>\n",
       "      <td>6.22</td>\n",
       "      <td>46</td>\n",
       "      <td>8.30</td>\n",
       "      <td>3.79</td>\n",
       "    </tr>\n",
       "    <tr>\n",
       "      <th>3</th>\n",
       "      <td>3</td>\n",
       "      <td>-0.185496</td>\n",
       "      <td>51.483253</td>\n",
       "      <td>2</td>\n",
       "      <td>12</td>\n",
       "      <td>3</td>\n",
       "      <td>308</td>\n",
       "      <td>30</td>\n",
       "      <td>2012</td>\n",
       "      <td>2/5/2012</td>\n",
       "      <td>...</td>\n",
       "      <td>0.0</td>\n",
       "      <td>none</td>\n",
       "      <td>1020.73</td>\n",
       "      <td>Mostly Cloudy</td>\n",
       "      <td>50.81</td>\n",
       "      <td>4</td>\n",
       "      <td>4.98</td>\n",
       "      <td>338</td>\n",
       "      <td>8.06</td>\n",
       "      <td>4.46</td>\n",
       "    </tr>\n",
       "    <tr>\n",
       "      <th>4</th>\n",
       "      <td>4</td>\n",
       "      <td>-0.160418</td>\n",
       "      <td>51.501567</td>\n",
       "      <td>5</td>\n",
       "      <td>1</td>\n",
       "      <td>3</td>\n",
       "      <td>3216</td>\n",
       "      <td>30</td>\n",
       "      <td>2012</td>\n",
       "      <td>12/1/2012</td>\n",
       "      <td>...</td>\n",
       "      <td>0.0</td>\n",
       "      <td>none</td>\n",
       "      <td>1027.15</td>\n",
       "      <td>Mostly Cloudy</td>\n",
       "      <td>46.56</td>\n",
       "      <td>0</td>\n",
       "      <td>6.22</td>\n",
       "      <td>254</td>\n",
       "      <td>10.99</td>\n",
       "      <td>5.74</td>\n",
       "    </tr>\n",
       "  </tbody>\n",
       "</table>\n",
       "<p>5 rows × 34 columns</p>\n",
       "</div>"
      ],
      "text/plain": [
       "   Unnamed: 0  Longitude   Latitude  Day_of_Week  Local_Authority_(District)  \\\n",
       "0           0  -0.185496  51.483253            5                          12   \n",
       "1           1  -0.185496  51.483253            0                          12   \n",
       "2           2  -0.185496  51.483253            5                          12   \n",
       "3           3  -0.185496  51.483253            2                          12   \n",
       "4           4  -0.160418  51.501567            5                           1   \n",
       "\n",
       "   1st_Road_Class  1st_Road_Number  Speed_limit  Year       Date    ...      \\\n",
       "0               3              308           30  2012  19/1/2012    ...       \n",
       "1               3              308           30  2012  16/7/2012    ...       \n",
       "2               3              308           30  2012   5/5/2012    ...       \n",
       "3               3              308           30  2012   2/5/2012    ...       \n",
       "4               3             3216           30  2012  12/1/2012    ...       \n",
       "\n",
       "  precipProbability  precipType  pressure        summary temperature  uvIndex  \\\n",
       "0               0.0        none   1022.61  Mostly Cloudy       52.72        0   \n",
       "1               0.0        none   1018.66  Partly Cloudy       62.57        0   \n",
       "2               0.0        none   1010.30  Mostly Cloudy       48.33        4   \n",
       "3               0.0        none   1020.73  Mostly Cloudy       50.81        4   \n",
       "4               0.0        none   1027.15  Mostly Cloudy       46.56        0   \n",
       "\n",
       "   visibility  windBearing  windGust  windSpeed  \n",
       "0        5.70          247      7.84       4.45  \n",
       "1        6.22          266      8.13       3.61  \n",
       "2        6.22           46      8.30       3.79  \n",
       "3        4.98          338      8.06       4.46  \n",
       "4        6.22          254     10.99       5.74  \n",
       "\n",
       "[5 rows x 34 columns]"
      ]
     },
     "execution_count": 5,
     "metadata": {},
     "output_type": "execute_result"
    }
   ],
   "source": [
    "pima.head()"
   ]
  },
  {
   "cell_type": "code",
   "execution_count": 8,
   "metadata": {},
   "outputs": [],
   "source": [
    "# Import train_test_split function\n",
    "from sklearn.model_selection import train_test_split\n",
    "\n",
    "X=pima[['Longitude',\n",
    "    'Latitude',\n",
    "    'Cluster',\n",
    "    'Day_of_Week',\n",
    "    'Hour',\n",
    "    'Day_of_year',\n",
    "    'Local_Authority_(District)',\n",
    "    '1st_Road_Class',\n",
    "    '1st_Road_Number',\n",
    "    'Speed_limit',\n",
    "    'Year',\n",
    "    'apparentTemperature',\n",
    "    'cloudCover',\n",
    "    'dewPoint',\n",
    "    'humidity',\n",
    "    'precipAccumulation',\n",
    "    'precipIntensity',\n",
    "    'precipProbability',\n",
    "    'pressure',\n",
    "    'temperature','uvIndex',\n",
    "    'visibility',\n",
    "    'windBearing',\n",
    "    'windGust',\n",
    "    'windSpeed']]  # Features\n",
    "y=pima['Accident']  # Labels\n",
    "\n",
    "# Split dataset into training set and test set\n",
    "X_train, X_test, y_train, y_test = train_test_split(X, y, test_size=0.3) # 70% training and 30% test"
   ]
  },
  {
   "cell_type": "code",
   "execution_count": 9,
   "metadata": {},
   "outputs": [],
   "source": [
    "#Import Random Forest Model\n",
    "from sklearn.ensemble import RandomForestClassifier\n",
    "\n",
    "#Create a Gaussian Classifier\n",
    "clf=RandomForestClassifier(n_estimators=100)\n",
    "\n",
    "#Train the model using the training sets y_pred=clf.predict(X_test)\n",
    "clf.fit(X_train,y_train)\n",
    "\n",
    "y_pred=clf.predict(X_test)"
   ]
  },
  {
   "cell_type": "code",
   "execution_count": 10,
   "metadata": {},
   "outputs": [
    {
     "name": "stdout",
     "output_type": "stream",
     "text": [
      "Accuracy: 0.8346746575342465\n"
     ]
    }
   ],
   "source": [
    "#Import scikit-learn metrics module for accuracy calculation\n",
    "from sklearn import metrics\n",
    "# Model Accuracy, how often is the classifier correct?\n",
    "print(\"Accuracy:\",metrics.accuracy_score(y_test, y_pred))"
   ]
  },
  {
   "cell_type": "code",
   "execution_count": 11,
   "metadata": {},
   "outputs": [
    {
     "data": {
      "text/plain": [
       "RandomForestClassifier(bootstrap=True, class_weight=None, criterion='gini',\n",
       "            max_depth=None, max_features='auto', max_leaf_nodes=None,\n",
       "            min_impurity_decrease=0.0, min_impurity_split=None,\n",
       "            min_samples_leaf=1, min_samples_split=2,\n",
       "            min_weight_fraction_leaf=0.0, n_estimators=100, n_jobs=None,\n",
       "            oob_score=False, random_state=None, verbose=0,\n",
       "            warm_start=False)"
      ]
     },
     "execution_count": 11,
     "metadata": {},
     "output_type": "execute_result"
    }
   ],
   "source": [
    "from sklearn.ensemble import RandomForestClassifier\n",
    "\n",
    "#Create a Gaussian Classifier\n",
    "clf=RandomForestClassifier(n_estimators=100)\n",
    "\n",
    "#Train the model using the training sets y_pred=clf.predict(X_test)\n",
    "clf.fit(X_train,y_train)"
   ]
  },
  {
   "cell_type": "code",
   "execution_count": 13,
   "metadata": {},
   "outputs": [],
   "source": [
    "feature_cols = [\n",
    "    'Longitude',\n",
    "    'Latitude',\n",
    "    'Cluster',\n",
    "    'Day_of_Week',\n",
    "    'Hour',\n",
    "    'Day_of_year',\n",
    "    'Local_Authority_(District)',\n",
    "    '1st_Road_Class',\n",
    "    '1st_Road_Number',\n",
    "    'Speed_limit',\n",
    "    'Year',\n",
    "    'apparentTemperature',\n",
    "    'cloudCover',\n",
    "    'dewPoint',\n",
    "    'humidity',\n",
    "    'precipAccumulation',\n",
    "    'precipIntensity',\n",
    "    'precipProbability',\n",
    "    'pressure',\n",
    "    'temperature','uvIndex',\n",
    "    'visibility',\n",
    "    'windBearing',\n",
    "    'windGust',\n",
    "    'windSpeed'\n",
    "]"
   ]
  },
  {
   "cell_type": "code",
   "execution_count": 15,
   "metadata": {},
   "outputs": [
    {
     "data": {
      "text/plain": [
       "Day_of_Week                   0.171669\n",
       "Hour                          0.059017\n",
       "pressure                      0.057898\n",
       "windBearing                   0.051640\n",
       "Longitude                     0.050573\n",
       "windGust                      0.050467\n",
       "Day_of_year                   0.050284\n",
       "Latitude                      0.050244\n",
       "dewPoint                      0.049295\n",
       "windSpeed                     0.048615\n",
       "Cluster                       0.046737\n",
       "temperature                   0.046185\n",
       "apparentTemperature           0.046116\n",
       "cloudCover                    0.038969\n",
       "1st_Road_Number               0.038923\n",
       "humidity                      0.036827\n",
       "Local_Authority_(District)    0.026118\n",
       "visibility                    0.025149\n",
       "Year                          0.011769\n",
       "uvIndex                       0.011454\n",
       "precipIntensity               0.010738\n",
       "precipProbability             0.010439\n",
       "Speed_limit                   0.005375\n",
       "1st_Road_Class                0.005253\n",
       "precipAccumulation            0.000246\n",
       "dtype: float64"
      ]
     },
     "execution_count": 15,
     "metadata": {},
     "output_type": "execute_result"
    }
   ],
   "source": [
    "import pandas as pd\n",
    "feature_imp = pd.Series(clf.feature_importances_,index=feature_cols).sort_values(ascending=False)\n",
    "feature_imp"
   ]
  },
  {
   "cell_type": "code",
   "execution_count": 18,
   "metadata": {},
   "outputs": [
    {
     "name": "stderr",
     "output_type": "stream",
     "text": [
      "No handles with labels found to put in legend.\n"
     ]
    },
    {
     "data": {
      "image/png": "[encoded data removed]",
      "text/plain": [
       "<Figure size 432x288 with 1 Axes>"
      ]
     },
     "metadata": {
      "needs_background": "light"
     },
     "output_type": "display_data"
    }
   ],
   "source": [
    "import matplotlib.pyplot as plt\n",
    "import seaborn as sns\n",
    "%matplotlib inline\n",
    "# Creating a bar plot\n",
    "sns.barplot(x=feature_imp, y=feature_imp.index)\n",
    "# Add labels to your graph\n",
    "plt.xlabel('Feature Importance Score')\n",
    "plt.ylabel('Features')\n",
    "plt.title(\"Visualizing Important Features\")\n",
    "plt.legend()\n",
    "plt.show()"
   ]
  },
  {
   "cell_type": "code",
   "execution_count": null,
   "metadata": {},
   "outputs": [],
   "source": []
  }
 ],
 "metadata": {
  "kernelspec": {
   "display_name": "Python 3",
   "language": "python",
   "name": "python3"
  },
  "language_info": {
   "codemirror_mode": {
    "name": "ipython",
    "version": 3
   },
   "file_extension": ".py",
   "mimetype": "text/x-python",
   "name": "python",
   "nbconvert_exporter": "python",
   "pygments_lexer": "ipython3",
   "version": "3.6.5"
  }
 },
 "nbformat": 4,
 "nbformat_minor": 2
}
