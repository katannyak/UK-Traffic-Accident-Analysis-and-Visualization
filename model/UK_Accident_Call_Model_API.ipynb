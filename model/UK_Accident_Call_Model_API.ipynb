{
 "cells": [
  {
   "cell_type": "code",
   "execution_count": 1,
   "metadata": {},
   "outputs": [],
   "source": [
    "import pandas as pd\n",
    "import matplotlib.pyplot as plt\n",
    "import seaborn as sns\n",
    "import random\n",
    "import datetime"
   ]
  },
  {
   "cell_type": "code",
   "execution_count": 2,
   "metadata": {},
   "outputs": [],
   "source": [
    "#load the dataset\n",
    "pima = pd.read_csv(\"alldatapoints_w_weather.csv\")"
   ]
  },
  {
   "cell_type": "code",
   "execution_count": 3,
   "metadata": {},
   "outputs": [
    {
     "data": {
      "text/html": [
       "<div>\n",
       "<style scoped>\n",
       "    .dataframe tbody tr th:only-of-type {\n",
       "        vertical-align: middle;\n",
       "    }\n",
       "\n",
       "    .dataframe tbody tr th {\n",
       "        vertical-align: top;\n",
       "    }\n",
       "\n",
       "    .dataframe thead th {\n",
       "        text-align: right;\n",
       "    }\n",
       "</style>\n",
       "<table border=\"1\" class=\"dataframe\">\n",
       "  <thead>\n",
       "    <tr style=\"text-align: right;\">\n",
       "      <th></th>\n",
       "      <th>Unnamed: 0</th>\n",
       "      <th>Longitude</th>\n",
       "      <th>Latitude</th>\n",
       "      <th>Day_of_Week</th>\n",
       "      <th>Local_Authority_(District)</th>\n",
       "      <th>1st_Road_Class</th>\n",
       "      <th>1st_Road_Number</th>\n",
       "      <th>Speed_limit</th>\n",
       "      <th>Year</th>\n",
       "      <th>Date</th>\n",
       "      <th>...</th>\n",
       "      <th>precipProbability</th>\n",
       "      <th>precipType</th>\n",
       "      <th>pressure</th>\n",
       "      <th>summary</th>\n",
       "      <th>temperature</th>\n",
       "      <th>uvIndex</th>\n",
       "      <th>visibility</th>\n",
       "      <th>windBearing</th>\n",
       "      <th>windGust</th>\n",
       "      <th>windSpeed</th>\n",
       "    </tr>\n",
       "  </thead>\n",
       "  <tbody>\n",
       "    <tr>\n",
       "      <th>0</th>\n",
       "      <td>0</td>\n",
       "      <td>-0.185496</td>\n",
       "      <td>51.483253</td>\n",
       "      <td>5</td>\n",
       "      <td>12</td>\n",
       "      <td>3</td>\n",
       "      <td>308</td>\n",
       "      <td>30</td>\n",
       "      <td>2012</td>\n",
       "      <td>19/1/2012</td>\n",
       "      <td>...</td>\n",
       "      <td>0.0</td>\n",
       "      <td>none</td>\n",
       "      <td>1022.61</td>\n",
       "      <td>Mostly Cloudy</td>\n",
       "      <td>52.72</td>\n",
       "      <td>0</td>\n",
       "      <td>5.70</td>\n",
       "      <td>247</td>\n",
       "      <td>7.84</td>\n",
       "      <td>4.45</td>\n",
       "    </tr>\n",
       "    <tr>\n",
       "      <th>1</th>\n",
       "      <td>1</td>\n",
       "      <td>-0.185496</td>\n",
       "      <td>51.483253</td>\n",
       "      <td>0</td>\n",
       "      <td>12</td>\n",
       "      <td>3</td>\n",
       "      <td>308</td>\n",
       "      <td>30</td>\n",
       "      <td>2012</td>\n",
       "      <td>16/7/2012</td>\n",
       "      <td>...</td>\n",
       "      <td>0.0</td>\n",
       "      <td>none</td>\n",
       "      <td>1018.66</td>\n",
       "      <td>Partly Cloudy</td>\n",
       "      <td>62.57</td>\n",
       "      <td>0</td>\n",
       "      <td>6.22</td>\n",
       "      <td>266</td>\n",
       "      <td>8.13</td>\n",
       "      <td>3.61</td>\n",
       "    </tr>\n",
       "    <tr>\n",
       "      <th>2</th>\n",
       "      <td>2</td>\n",
       "      <td>-0.185496</td>\n",
       "      <td>51.483253</td>\n",
       "      <td>5</td>\n",
       "      <td>12</td>\n",
       "      <td>3</td>\n",
       "      <td>308</td>\n",
       "      <td>30</td>\n",
       "      <td>2012</td>\n",
       "      <td>5/5/2012</td>\n",
       "      <td>...</td>\n",
       "      <td>0.0</td>\n",
       "      <td>none</td>\n",
       "      <td>1010.30</td>\n",
       "      <td>Mostly Cloudy</td>\n",
       "      <td>48.33</td>\n",
       "      <td>4</td>\n",
       "      <td>6.22</td>\n",
       "      <td>46</td>\n",
       "      <td>8.30</td>\n",
       "      <td>3.79</td>\n",
       "    </tr>\n",
       "    <tr>\n",
       "      <th>3</th>\n",
       "      <td>3</td>\n",
       "      <td>-0.185496</td>\n",
       "      <td>51.483253</td>\n",
       "      <td>2</td>\n",
       "      <td>12</td>\n",
       "      <td>3</td>\n",
       "      <td>308</td>\n",
       "      <td>30</td>\n",
       "      <td>2012</td>\n",
       "      <td>2/5/2012</td>\n",
       "      <td>...</td>\n",
       "      <td>0.0</td>\n",
       "      <td>none</td>\n",
       "      <td>1020.73</td>\n",
       "      <td>Mostly Cloudy</td>\n",
       "      <td>50.81</td>\n",
       "      <td>4</td>\n",
       "      <td>4.98</td>\n",
       "      <td>338</td>\n",
       "      <td>8.06</td>\n",
       "      <td>4.46</td>\n",
       "    </tr>\n",
       "    <tr>\n",
       "      <th>4</th>\n",
       "      <td>4</td>\n",
       "      <td>-0.160418</td>\n",
       "      <td>51.501567</td>\n",
       "      <td>5</td>\n",
       "      <td>1</td>\n",
       "      <td>3</td>\n",
       "      <td>3216</td>\n",
       "      <td>30</td>\n",
       "      <td>2012</td>\n",
       "      <td>12/1/2012</td>\n",
       "      <td>...</td>\n",
       "      <td>0.0</td>\n",
       "      <td>none</td>\n",
       "      <td>1027.15</td>\n",
       "      <td>Mostly Cloudy</td>\n",
       "      <td>46.56</td>\n",
       "      <td>0</td>\n",
       "      <td>6.22</td>\n",
       "      <td>254</td>\n",
       "      <td>10.99</td>\n",
       "      <td>5.74</td>\n",
       "    </tr>\n",
       "  </tbody>\n",
       "</table>\n",
       "<p>5 rows × 34 columns</p>\n",
       "</div>"
      ],
      "text/plain": [
       "   Unnamed: 0  Longitude   Latitude  Day_of_Week  Local_Authority_(District)  \\\n",
       "0           0  -0.185496  51.483253            5                          12   \n",
       "1           1  -0.185496  51.483253            0                          12   \n",
       "2           2  -0.185496  51.483253            5                          12   \n",
       "3           3  -0.185496  51.483253            2                          12   \n",
       "4           4  -0.160418  51.501567            5                           1   \n",
       "\n",
       "   1st_Road_Class  1st_Road_Number  Speed_limit  Year       Date    ...      \\\n",
       "0               3              308           30  2012  19/1/2012    ...       \n",
       "1               3              308           30  2012  16/7/2012    ...       \n",
       "2               3              308           30  2012   5/5/2012    ...       \n",
       "3               3              308           30  2012   2/5/2012    ...       \n",
       "4               3             3216           30  2012  12/1/2012    ...       \n",
       "\n",
       "  precipProbability  precipType  pressure        summary temperature  uvIndex  \\\n",
       "0               0.0        none   1022.61  Mostly Cloudy       52.72        0   \n",
       "1               0.0        none   1018.66  Partly Cloudy       62.57        0   \n",
       "2               0.0        none   1010.30  Mostly Cloudy       48.33        4   \n",
       "3               0.0        none   1020.73  Mostly Cloudy       50.81        4   \n",
       "4               0.0        none   1027.15  Mostly Cloudy       46.56        0   \n",
       "\n",
       "   visibility  windBearing  windGust  windSpeed  \n",
       "0        5.70          247      7.84       4.45  \n",
       "1        6.22          266      8.13       3.61  \n",
       "2        6.22           46      8.30       3.79  \n",
       "3        4.98          338      8.06       4.46  \n",
       "4        6.22          254     10.99       5.74  \n",
       "\n",
       "[5 rows x 34 columns]"
      ]
     },
     "execution_count": 3,
     "metadata": {},
     "output_type": "execute_result"
    }
   ],
   "source": [
    "#displays first 5 rows\n",
    "pima.head()"
   ]
  },
  {
   "cell_type": "code",
   "execution_count": 4,
   "metadata": {},
   "outputs": [],
   "source": [
    "#pick a random number, to randomly select an accident to pass to the model\n",
    "import random\n",
    "rand_int = random.randint(1,38932) #there are 38932 accidents to choose from"
   ]
  },
  {
   "cell_type": "code",
   "execution_count": 5,
   "metadata": {},
   "outputs": [],
   "source": [
    "#pack the accident selected in json format\n",
    "import json\n",
    "\n",
    "data = {}\n",
    "data['Longitude'] = float(pima.iloc[[rand_int]]['Longitude'])\n",
    "data['Latitude'] = float(pima.iloc[[rand_int]]['Latitude'])\n",
    "data['Cluster'] = float(pima.iloc[[rand_int]]['Cluster'])\n",
    "data['Day_of_Week'] = float(pima.iloc[[rand_int]]['Day_of_Week'])\n",
    "data['Hour'] = float(pima.iloc[[rand_int]]['Hour'])\n",
    "data['Day_of_year'] = float(pima.iloc[[rand_int]]['Day_of_year'])\n",
    "data['Local_Authority_(District)'] = float(pima.iloc[[rand_int]]['Local_Authority_(District)'])\n",
    "data['1st_Road_Class'] = float(pima.iloc[[rand_int]]['1st_Road_Class'])\n",
    "data['1st_Road_Number'] = float(pima.iloc[[rand_int]]['1st_Road_Number'])\n",
    "data['Speed_limit'] = float(pima.iloc[[rand_int]]['Speed_limit'])\n",
    "data['Year'] = float(pima.iloc[[rand_int]]['Year'])\n",
    "data['apparentTemperature'] = float(pima.iloc[[rand_int]]['apparentTemperature'])\n",
    "data['cloudCover'] = float(pima.iloc[[rand_int]]['cloudCover'])\n",
    "data['dewPoint'] = float(pima.iloc[[rand_int]]['dewPoint'])\n",
    "data['humidity'] = float(pima.iloc[[rand_int]]['humidity'])\n",
    "data['precipAccumulation'] = float(pima.iloc[[rand_int]]['precipAccumulation'])\n",
    "data['precipIntensity'] = float(pima.iloc[[rand_int]]['precipIntensity'])\n",
    "data['precipProbability'] = float(pima.iloc[[rand_int]]['precipProbability'])\n",
    "data['pressure'] = float(pima.iloc[[rand_int]]['pressure'])\n",
    "data['temperature'] = float(pima.iloc[[rand_int]]['temperature'])\n",
    "data['uvIndex'] = float(pima.iloc[[rand_int]]['uvIndex'])\n",
    "data['visibility'] = float(pima.iloc[[rand_int]]['visibility'])\n",
    "data['windBearing'] = float(pima.iloc[[rand_int]]['windBearing'])\n",
    "data['windGust'] = float(pima.iloc[[rand_int]]['windGust'])\n",
    "data['windSpeed'] = float(pima.iloc[[rand_int]]['windSpeed'])\n",
    "json_data = json.dumps(data)\n",
    "    "
   ]
  },
  {
   "cell_type": "code",
   "execution_count": 6,
   "metadata": {},
   "outputs": [
    {
     "name": "stdout",
     "output_type": "stream",
     "text": [
      "[{\"Longitude\": -0.056482000000000004, \"Latitude\": 51.519675, \"Cluster\": 124.0, \"Day_of_Week\": 1.0, \"Hour\": 8.0, \"Day_of_year\": 106.0, \"Local_Authority_(District)\": 5.0, \"1st_Road_Class\": 3.0, \"1st_Road_Number\": 11.0, \"Speed_limit\": 30.0, \"Year\": 2013.0, \"apparentTemperature\": 47.84, \"cloudCover\": 0.07, \"dewPoint\": 43.71, \"humidity\": 0.82, \"precipAccumulation\": 0.0, \"precipIntensity\": 0.0, \"precipProbability\": 0.0, \"pressure\": 1015.62, \"temperature\": 48.92, \"uvIndex\": 0.0, \"visibility\": 6.21, \"windBearing\": 179.0, \"windGust\": 7.56, \"windSpeed\": 3.72}]\n"
     ]
    }
   ],
   "source": [
    "#pre-fix and post-fix square brackets\n",
    "json_data = '[' + json_data + ']'\n",
    "print(json_data)"
   ]
  },
  {
   "cell_type": "code",
   "execution_count": 7,
   "metadata": {},
   "outputs": [
    {
     "name": "stderr",
     "output_type": "stream",
     "text": [
      "C:\\Users\\roger.teo\\AppData\\Local\\Continuum\\anaconda3\\lib\\site-packages\\urllib3\\connectionpool.py:847: InsecureRequestWarning: Unverified HTTPS request is being made. Adding certificate verification is strongly advised. See: https://urllib3.readthedocs.io/en/latest/advanced-usage.html#ssl-warnings\n",
      "  InsecureRequestWarning)\n"
     ]
    },
    {
     "name": "stdout",
     "output_type": "stream",
     "text": [
      "200\n"
     ]
    }
   ],
   "source": [
    "#post json to model hosted on pythonanywhere\n",
    "import requests\n",
    "\n",
    "url = 'https://kteo7.pythonanywhere.com/predict'\n",
    "headers = {'content-type': 'application/json'}\n",
    "r = requests.post(url, verify=False, data=json_data, headers=headers)\n",
    "print(r.status_code)"
   ]
  },
  {
   "cell_type": "code",
   "execution_count": 8,
   "metadata": {},
   "outputs": [
    {
     "name": "stdout",
     "output_type": "stream",
     "text": [
      "{'prediction': '[array([0.91, 0.09])]'}\n"
     ]
    }
   ],
   "source": [
    "#print the prediction - left = 0 (probability of no accident), right = 1 (probability of accident)\n",
    "print(json.loads(r.text))"
   ]
  },
  {
   "cell_type": "code",
   "execution_count": null,
   "metadata": {},
   "outputs": [],
   "source": []
  }
 ],
 "metadata": {
  "kernelspec": {
   "display_name": "Python 3",
   "language": "python",
   "name": "python3"
  },
  "language_info": {
   "codemirror_mode": {
    "name": "ipython",
    "version": 3
   },
   "file_extension": ".py",
   "mimetype": "text/x-python",
   "name": "python",
   "nbconvert_exporter": "python",
   "pygments_lexer": "ipython3",
   "version": "3.6.5"
  }
 },
 "nbformat": 4,
 "nbformat_minor": 2
}
